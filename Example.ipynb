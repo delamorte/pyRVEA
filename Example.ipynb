{
 "cells": [
  {
   "cell_type": "code",
   "execution_count": null,
   "metadata": {
    "scrolled": true
   },
   "outputs": [],
   "source": [
    "%config IPCompleter.greedy=True\n",
    "from IPython.display import IFrame # To display saved plots"
   ]
  },
  {
   "cell_type": "markdown",
   "metadata": {},
   "source": [
    "# pyrvea\n",
    "\n",
    "The python implimentation of reference vector guided evolutionary algorithm.\n",
    "\n",
    "See the details of RVEA in the following paper:\n",
    "\n",
    "R. Cheng, Y. Jin, M. Olhofer and B. Sendhoff, A Reference Vector Guided Evolutionary Algorithm for Many-objective Optimization, IEEE Transactions on Evolutionary Computation, 2016\n",
    "\n",
    "The source code of pyrvea is implemented by Bhupinder Saini\n",
    "\n",
    "If you have any questions about the code, please contact:\n",
    "\n",
    "Bhupinder Saini: bhupinder.s.saini@jyu.fi\n",
    "\n",
    "Project researcher at University of Jyväskylä."
   ]
  },
  {
   "cell_type": "code",
   "execution_count": null,
   "metadata": {
    "scrolled": true
   },
   "outputs": [],
   "source": [
    "from pyrvea.Population.Population import Population\n",
    "from pyrvea.Problem.baseProblem import baseProblem\n",
    "from pyrvea.Problem.testProblem import testProblem\n",
    "from pyrvea.EAs.RVEA import RVEA\n",
    "from optproblems import dtlz # Imported for examples"
   ]
  },
  {
   "cell_type": "markdown",
   "metadata": {},
   "source": [
    "### Create the Problem object\n",
    "\n",
    "To begin, first create a Problem object. You can use the class TestProblems to use the inbuilt problems, or create your own class by inheriting via the Problem class.\n",
    "\n",
    "This object contains the following details of the problem:\n",
    "    \n",
    "- `Problem.name` - Contains the name of the problem\n",
    "- `Problem.num_of_variables` - Contains the number of decision variables\n",
    "- `Problem.num_of_objectives` - Contains the number of objective variables\n",
    "- `Problem.num_of_constraints` - Contains the number of constraints\n",
    "- `Problem.lower_limits` - Scalar/list of lower limits of decision variables\n",
    "- `Problem.upper_limits` - Scalar/list of upper limits of decision variables\n",
    "- `Problem.objectives()` - Accepts a single sample and returns the corresponding objective values in a list\n",
    "- `Problem.constraints()` - Accepts a single sample and returns the corresponding constraint violations in a list"
   ]
  },
  {
   "cell_type": "code",
   "execution_count": null,
   "metadata": {
    "scrolled": true
   },
   "outputs": [],
   "source": [
    "name = \"DTLZ3\"\n",
    "k = 10\n",
    "numobj = 4\n",
    "numconst = 0\n",
    "numvar = numobj + k - 1\n",
    "problem = testProblem(name=name, num_of_variables=numvar, num_of_objectives=numobj, num_of_constraints=numconst)"
   ]
  },
  {
   "cell_type": "markdown",
   "metadata": {},
   "source": [
    "# Now redundant. This section will be updated later.\n",
    "### Create the Parameters object\n",
    "\n",
    "This object contains the parameters of RVEA evolution: \n",
    "- `population_size` - The size of population\n",
    "- `lattice_resolution` - Resolution of the reference vector lattice. Equivalent to number of divisions along a dimension.\n",
    "- `generations` - The number of generations for which RVEA conducts the mating and selection in the population.\n",
    "- `iterations` - The number of times an \"interruption\" in the evolution happens. This interruption can be one or more of:\n",
    "    - Reference Vector Adaptation\n",
    "    - Interaction with the DM\n",
    "    - Updating Surrogate models\n",
    "- `Alpha` - The alpha parameter of APD.\n",
    "- `ploton` - Boolean value. If true, plots are generated whenever \"interruptions\" occur."
   ]
  },
  {
   "cell_type": "markdown",
   "metadata": {},
   "source": [
    "### Create the population object\n",
    "This object contains the population. This object contains many variables and methods, a few are described below:\n",
    "- `Population.individuals` - An array containing the decision variable values of the entire population.\n",
    "- `Population.objectives` - An array containing the objective variable values of the entire population.\n",
    "- `Population.constraint_violation` - An array containing the constraint violation values of the entire population.\n",
    "- `Population.fitness` - Array containing fitness value of all individuals.\n",
    "- `Population.non_dom` - Array containing the objective values of non-dominated individuals."
   ]
  },
  {
   "cell_type": "code",
   "execution_count": null,
   "metadata": {
    "scrolled": true
   },
   "outputs": [],
   "source": [
    "pop = Population(problem, assign_type='RandomAssign')  # Current options: 'RandomAssign' and 'LHSDesign'"
   ]
  },
  {
   "cell_type": "markdown",
   "metadata": {},
   "source": [
    "Evolution can be conducting by calling `evolve()` on the population object. Be sure to pass the EA as an argument. Here, the EA is `RVEA`."
   ]
  },
  {
   "cell_type": "code",
   "execution_count": null,
   "metadata": {
    "scrolled": false
   },
   "outputs": [],
   "source": [
    "newpop = pop.evolve(RVEA)"
   ]
  },
  {
   "cell_type": "markdown",
   "metadata": {},
   "source": [
    "### View Plot\n",
    "\n",
    "Saved plots can be viewed using the IFrame command. The format is:\n",
    "`IFrame(source, width, height)`"
   ]
  },
  {
   "cell_type": "code",
   "execution_count": null,
   "metadata": {},
   "outputs": [],
   "source": [
    "IFrame(src=\"DTLZ3_4.html\", width=\"100%\", height=1000)"
   ]
  },
  {
   "cell_type": "markdown",
   "metadata": {},
   "source": [
    "Calling `non_dominated()` on population object updated `Population.non_dom` and returns a tuple containing the output of `pygmo.fast_non_dominated_sorting`. \n",
    "\n",
    "Calling `hypervolume()` on a population object calculates the hypervolume based on the non-dominated individuals and passed reference point."
   ]
  },
  {
   "cell_type": "code",
   "execution_count": null,
   "metadata": {
    "scrolled": true
   },
   "outputs": [],
   "source": [
    "newpop.non_dominated()\n",
    "refpoint = 2\n",
    "volume = 2 ** numobj\n",
    "print(newpop.hypervolume(refpoint)/volume)"
   ]
  },
  {
   "cell_type": "markdown",
   "metadata": {},
   "source": [
    "### Creating a custom Problem object\n",
    "To create a custom `Problem` object, inherit from the `Problem` class and overwrite the `objective()` method to accept a sample and return the objective values as a list/array. Overwrite `constraints()` method if the problem has constraints other than the upper and lower limits of the decision variables. Then initialize the newly created object class using the same format as the `testProblem` class."
   ]
  },
  {
   "cell_type": "code",
   "execution_count": null,
   "metadata": {
    "scrolled": true
   },
   "outputs": [],
   "source": [
    "class newProblem(Problem):\n",
    "    def objectives(self, decision_variables):\n",
    "        return(dtlz.DTLZ3(3,12)(decision_variables))"
   ]
  },
  {
   "cell_type": "code",
   "execution_count": null,
   "metadata": {
    "scrolled": true
   },
   "outputs": [],
   "source": [
    "name = 'newDTLZ3'\n",
    "k = 10\n",
    "numobj = 3\n",
    "numvar = numobj + k - 1\n",
    "new_problem = newProblem(name='newDTLZ3', lower_limits=0, upper_limits=1, num_of_variables=numvar, num_of_objectives=numobj)"
   ]
  },
  {
   "cell_type": "code",
   "execution_count": null,
   "metadata": {
    "scrolled": true
   },
   "outputs": [],
   "source": [
    "parameters = Parameters(population_size=105, lattice_resolution=13 , algorithm_name='RVEA')\n",
    "pop = Population(new_problem, parameters)"
   ]
  },
  {
   "cell_type": "code",
   "execution_count": null,
   "metadata": {
    "scrolled": false
   },
   "outputs": [],
   "source": [
    "newpop = pop.evolve(new_problem, parameters)"
   ]
  },
  {
   "cell_type": "code",
   "execution_count": null,
   "metadata": {
    "scrolled": true
   },
   "outputs": [],
   "source": [
    "newpop.non_dominated()\n",
    "refpoint = 2\n",
    "volume = 2 ** numobj\n",
    "print(newpop.hypervolume(refpoint)/volume)"
   ]
  }
 ],
 "metadata": {
  "kernelspec": {
   "display_name": "pyrvea",
   "language": "python",
   "name": "pyrvea"
  },
  "language_info": {
   "codemirror_mode": {
    "name": "ipython",
    "version": 3
   },
   "file_extension": ".py",
   "mimetype": "text/x-python",
   "name": "python",
   "nbconvert_exporter": "python",
   "pygments_lexer": "ipython3",
   "version": "3.7.1"
  }
 },
 "nbformat": 4,
 "nbformat_minor": 2
}
